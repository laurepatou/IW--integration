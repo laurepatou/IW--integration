{
 "cells": [
  {
   "cell_type": "markdown",
   "metadata": {},
   "source": [
    "# Creating Generalized Beta distributions"
   ]
  },
  {
   "cell_type": "markdown",
   "metadata": {},
   "source": [
    "Beta distributions integrated in BW2 supposed that minimum=0 and only allow to set a maximum value with loc=alpha, shape=beta, scale=maximum. See the source code: https://bitbucket.org/cmutel/stats_arrays/src/4b1c62076305a127458c49d45287d2f9bbc9933b/stats_arrays/distributions/beta.py?at=default&fileviewer=file-view-default\n",
    "\n",
    "Scipy package allows to create generalized beta by setting the minimum and the maximum with a=alpha, b=beta, loc=min and scale=max-min. See the documentation here: https://docs.scipy.org/doc/scipy/reference/generated/scipy.stats.beta.html#scipy.stats.beta\n",
    "\n",
    "The aim here is to create a Generalized beta distribution available in BW2 starting from beta.py: GeneralizedBetaUncertainty as beta_generalized, id = 13, using minimum and maximum."
   ]
  },
  {
   "cell_type": "code",
   "execution_count": 1,
   "metadata": {
    "collapsed": true
   },
   "outputs": [],
   "source": [
    "import brightway2 as bw\n",
    "import os               # to use \"operating system dependent functionality\"\n",
    "import numpy as np      # \"the fundamental package for scientific computing with Python\"\n",
    "import pandas as pd     # \"high-performance, easy-to-use data structures and data analysis tools\" for Python\n",
    "import csv\n",
    "import stats_arrays"
   ]
  },
  {
   "cell_type": "code",
   "execution_count": null,
   "metadata": {
    "collapsed": false
   },
   "outputs": [],
   "source": [
    "from __future__ import division\n",
    "from ..errors import InvalidParamsError\n",
    "from ..utils import one_row_params_array\n",
    "from .base import UncertaintyBase\n",
    "from numpy import random, zeros, isnan, arange\n",
    "from scipy import stats\n",
    "\n",
    "\n",
    "class GeneralizedBetaUncertainty(UncertaintyBase):\n",
    "\n",
    "    u\"\"\"\n",
    "    \n",
    "    TO BE UPDATED FOR GENERALIZED BETA DISTRIBUTIONS\n",
    "The Generalized Beta distribution has the probability distribution function:\n",
    "\n",
    "\n",
    "The :math:`\\\\alpha` parameter is ``loc``, and :math:`\\\\beta` is ``shape``. \n",
    "By default, the Beta distribution is defined from 0 to 1; the upper bound can be rescaled with the ``maximum`` parameter\n",
    "and the lower bound with the ``minimum`` parameter.\n",
    "\n",
    "Wikipedia: `Beta distribution <http://en.wikipedia.org/wiki/Beta_distribution>`_\n",
    "    \"\"\"\n",
    "    id = 13\n",
    "    description = \"Generalized Beta uncertainty\"\n",
    "\n",
    "    @classmethod\n",
    "    def validate(cls, params):\n",
    "        scale_param=params['maximum']-params['minimum']\n",
    "        if (params['loc'] > 0).sum() != params.shape[0]: #params.shape[0] ==> scale_param? je crois que non\n",
    "            raise InvalidParamsError(\"Real, positive alpha values are\" +\n",
    "                                     \" required for Beta uncertainties.\")\n",
    "        if (params['shape'] > 0).sum() != params.shape[0]:\n",
    "            raise InvalidParamsError(\"Real, positive beta values are\" +\n",
    "                                     \" required for Beta uncertainties.\")\n",
    "        if (scale_param <= 0).sum():\n",
    "            raise InvalidParamsError(\"Scale value must be positive or NaN\")\n",
    "\n",
    "    @classmethod\n",
    "    def random_variables(cls, params, size, seeded_random=None,\n",
    "                         transform=False):\n",
    "        scale_param=params['maximum']-params['minimum']\n",
    "        if not seeded_random:\n",
    "            seeded_random = random\n",
    "        scale = scale_param\n",
    "        scale[isnan(scale)] = 1\n",
    "        return scale.reshape((-1, 1)) * seeded_random.beta(\n",
    "            params['loc'],\n",
    "            params['shape'],\n",
    "            size=(size, params.shape[0])).T + params['minimum']\n",
    "\n",
    "    @classmethod\n",
    "    def cdf(cls, params, vector):\n",
    "        vector = cls.check_2d_inputs(params, vector)\n",
    "        results = zeros(vector.shape)\n",
    "        scale_param=params['maximum']-params['minimum']\n",
    "        scale = scale_param\n",
    "        scale[isnan(scale)] = 1\n",
    "        for row in range(params.shape[0]):\n",
    "            results[row, :] = stats.beta.cdf(vector[row, :],\n",
    "                                             params['loc'][row], params['shape'][row],\n",
    "                                             loc=params['minimum'][row],\n",
    "                                             scale=scale[row])\n",
    "        return results\n",
    "\n",
    "    @classmethod\n",
    "    def ppf(cls, params, percentages):\n",
    "        percentages = cls.check_2d_inputs(params, percentages)\n",
    "        results = zeros(percentages.shape)\n",
    "        scale_param=params['maximum']-params['minimum']\n",
    "        scale = scale_param\n",
    "        scale[isnan(scale)] = 1\n",
    "        for row in range(percentages.shape[0]):\n",
    "            results[row, :] = stats.beta.ppf(percentages[row, :],\n",
    "                                             params['loc'][row], params['shape'][row],\n",
    "                                             loc=params['minimum'][row],\n",
    "                                             scale=scale[row])\n",
    "        return results\n",
    "\n",
    "    @classmethod\n",
    "    @one_row_params_array\n",
    "    def statistics(cls, params):\n",
    "        alpha = float(params['loc'])\n",
    "        beta = float(params['shape'])\n",
    "        mini = float(params['minimum'])\n",
    "        maxi = float(params['maximum'])\n",
    "        # scale = 1 if isnan(params['maximum'])[0] else float(params['maximum'])\n",
    "        if alpha <= 1 or beta <= 1:\n",
    "            mode = \"Undefined\"\n",
    "        else:\n",
    "            mode = mini + (maxi-mini) * (alpha - 1) / (alpha + beta - 2)\n",
    "        return {\n",
    "            'mean': mini + (maxi-mini) * alpha / (alpha + beta),\n",
    "            'mode': mode,\n",
    "            'median': \"Not Implemented\",\n",
    "            'lower': mini,\n",
    "            'upper': maxi\n",
    "        }\n",
    "\n",
    "    @classmethod\n",
    "    @one_row_params_array\n",
    "    def pdf(cls, params, xs=None):\n",
    "        scale_param=params['maximum']-params['minimum']\n",
    "        scale = 1 if isnan(scale_param)[0] else float(scale_param)\n",
    "        if xs is None:\n",
    "            xs = arange(0, scale, scale / cls.default_number_points_in_pdf)\n",
    "        ys = stats.beta.pdf(xs, params['loc'], params['shape'],\n",
    "                            loc=params['minimum'],\n",
    "                            scale=scale)\n",
    "        return xs, ys.reshape(ys.shape[1])"
   ]
  },
  {
   "cell_type": "markdown",
   "metadata": {},
   "source": [
    "Others files and folder that need to be modified:\n",
    "\n",
    "- Create generalized_beta.py and paste it in C:\\bw2-python\\envs\\bw2\\Lib\\site-packages\\stats_arrays\\distributions\n",
    "- Add 'from .generalized_beta import GeneralizedBetaUncertainty' in __init__.py\n",
    "- Add 'GeneralizedBetaUncertainty' in DISTRIBUTIONS in uncertainty_choices.py in C:\\bw2-python\\envs\\bw2\\Lib\\site-packages\\stats_arrays\n",
    "- \n",
    "\n"
   ]
  },
  {
   "cell_type": "markdown",
   "metadata": {},
   "source": [
    "# Negative values in MC simulation"
   ]
  },
  {
   "cell_type": "markdown",
   "metadata": {},
   "source": [
    "The 'class MCRandomNumberGenerator' is used in MC simulation in BW2 (defined in random.py in C:\\bw2-python\\envs\\bw2\\Lib\\site-packages\\stats_arrays). This class does not take into account when 'negative' is set to True for all distributions, only for id=2,8,9 --> only for positive distribution\n"
   ]
  },
  {
   "cell_type": "code",
   "execution_count": 43,
   "metadata": {
    "collapsed": false
   },
   "outputs": [
    {
     "data": {
      "text/plain": [
       "[array([ -4.22150297e+00,   9.99964933e+03]),\n",
       " array([ 7.12260974,  5.14258581]),\n",
       " array([ 1.,  6.]),\n",
       " array([-1.75864977, -1.05040358]),\n",
       " array([ 0.81710919,  2.73671463,  0.64755892])]"
      ]
     },
     "execution_count": 43,
     "metadata": {},
     "output_type": "execute_result"
    }
   ],
   "source": [
    "from stats_arrays import MCRandomNumberGenerator, UncertaintyBase\n",
    "params_1 = UncertaintyBase.from_dicts(\n",
    "    {'loc': 1,'shape': np.NaN, 'scale': 0.7, 'minimum': np.NaN, 'maximum': np.NaN, 'uncertainty_type': 2,'negative': np.bool(1)},\n",
    "    {'loc': 10000,'shape': np.NaN, 'scale': 0.7, 'minimum': np.NaN, 'maximum': np.NaN, 'uncertainty_type': 3,'negative': np.bool(1)})\n",
    "params_2 = UncertaintyBase.from_dicts(\n",
    "    {'loc': np.NaN,'shape': np.NaN, 'scale': np.NaN, 'minimum': 3, 'maximum': 10, 'uncertainty_type': 4,'negative': np.bool(1)},\n",
    "    {'loc': 5,'shape': np.NaN, 'scale': np.NaN, 'minimum': 3, 'maximum': 10, 'uncertainty_type': 5,'negative': np.bool(1)})\n",
    "params_3 = UncertaintyBase.from_dicts(    \n",
    "    {'loc': 1,'shape': np.NaN, 'scale': np.NaN, 'minimum': 3, 'maximum': 10, 'uncertainty_type': 6,'negative': np.bool(1)},\n",
    "    {'loc': np.NaN,'shape': np.NaN, 'scale': np.NaN, 'minimum': 3, 'maximum': 10, 'uncertainty_type': 7,'negative': np.bool(1)})\n",
    "params_4 = UncertaintyBase.from_dicts(\n",
    "    {'loc': 1,'shape': 1, 'scale': 0.7, 'minimum': np.NaN, 'maximum': np.NaN, 'uncertainty_type': 8,'negative': np.bool(1)},\n",
    "    {'loc': 1,'shape': 1, 'scale': 0.7, 'minimum': np.NaN, 'maximum': np.NaN, 'uncertainty_type': 9,'negative': np.bool(1)})\n",
    "params_5 = UncertaintyBase.from_dicts(\n",
    "    {'loc': 1,'shape': 1, 'scale': np.NaN, 'minimum': np.NaN, 'maximum': np.NaN, 'uncertainty_type': 10,'negative': np.bool(1)},\n",
    "    {'loc': 1,'shape': 0, 'scale': 0.7, 'minimum': np.NaN, 'maximum': np.NaN, 'uncertainty_type': 11,'negative': np.bool(1)},\n",
    "    {'loc': np.NaN,'shape': 1, 'scale': np.NaN, 'minimum':np.NaN, 'maximum': np.NaN, 'uncertainty_type': 12,'negative': np.bool(1)})\n",
    "mcrng_1 = MCRandomNumberGenerator(params_1)\n",
    "mcrng_2 = MCRandomNumberGenerator(params_2)\n",
    "mcrng_3 = MCRandomNumberGenerator(params_3)\n",
    "mcrng_4 = MCRandomNumberGenerator(params_4)\n",
    "mcrng_5 = MCRandomNumberGenerator(params_5)\n",
    "[next(mcrng_1),next(mcrng_2),next(mcrng_3),next(mcrng_4),next(mcrng_5)]"
   ]
  },
  {
   "cell_type": "code",
   "execution_count": 48,
   "metadata": {
    "collapsed": false
   },
   "outputs": [
    {
     "data": {
      "text/plain": [
       "[array([  1.94451643e+00,   9.99843070e+03]),\n",
       " array([ 9.82207541,  3.51245232]),\n",
       " array([ 1.,  5.]),\n",
       " array([ 2.00984692,  2.11128135]),\n",
       " array([  0.51937226,   0.9773439 , -18.04267252])]"
      ]
     },
     "execution_count": 48,
     "metadata": {},
     "output_type": "execute_result"
    }
   ],
   "source": [
    "from stats_arrays import MCRandomNumberGenerator, UncertaintyBase\n",
    "params_1 = UncertaintyBase.from_dicts(\n",
    "    {'loc': 1,'shape': np.NaN, 'scale': 0.7, 'minimum': np.NaN, 'maximum': np.NaN, 'uncertainty_type': 2,'negative': np.bool(0)},\n",
    "    {'loc': 10000,'shape': np.NaN, 'scale': 0.7, 'minimum': np.NaN, 'maximum': np.NaN, 'uncertainty_type': 3,'negative': np.bool(0)})\n",
    "params_2 = UncertaintyBase.from_dicts(\n",
    "    {'loc': np.NaN,'shape': np.NaN, 'scale': np.NaN, 'minimum': 3, 'maximum': 10, 'uncertainty_type': 4,'negative': np.bool(0)},\n",
    "    {'loc': 5,'shape': np.NaN, 'scale': np.NaN, 'minimum': 3, 'maximum': 10, 'uncertainty_type': 5,'negative': np.bool(0)})\n",
    "params_3 = UncertaintyBase.from_dicts(    \n",
    "    {'loc': 1,'shape': np.NaN, 'scale': np.NaN, 'minimum': 3, 'maximum': 10, 'uncertainty_type': 6,'negative': np.bool(0)},\n",
    "    {'loc': np.NaN,'shape': np.NaN, 'scale': np.NaN, 'minimum': 3, 'maximum': 10, 'uncertainty_type': 7,'negative': np.bool(0)})\n",
    "params_4 = UncertaintyBase.from_dicts(\n",
    "    {'loc': 1,'shape': 1, 'scale': 0.7, 'minimum': np.NaN, 'maximum': np.NaN, 'uncertainty_type': 8,'negative': np.bool(0)},\n",
    "    {'loc': 1,'shape': 1, 'scale': 0.7, 'minimum': np.NaN, 'maximum': np.NaN, 'uncertainty_type': 9,'negative': np.bool(0)})\n",
    "params_5 = UncertaintyBase.from_dicts(\n",
    "    {'loc': 1,'shape': 1, 'scale': np.NaN, 'minimum': np.NaN, 'maximum': np.NaN, 'uncertainty_type': 10,'negative': np.bool(0)},\n",
    "    {'loc': 1,'shape': 0, 'scale': 0.7, 'minimum': np.NaN, 'maximum': np.NaN, 'uncertainty_type': 11,'negative': np.bool(0)},\n",
    "    {'loc': np.NaN,'shape': 1, 'scale': np.NaN, 'minimum':np.NaN, 'maximum': np.NaN, 'uncertainty_type': 12,'negative': np.bool(0)})\n",
    "mcrng_1 = MCRandomNumberGenerator(params_1)\n",
    "mcrng_2 = MCRandomNumberGenerator(params_2)\n",
    "mcrng_3 = MCRandomNumberGenerator(params_3)\n",
    "mcrng_4 = MCRandomNumberGenerator(params_4)\n",
    "mcrng_5 = MCRandomNumberGenerator(params_5)\n",
    "[next(mcrng_1),next(mcrng_2),next(mcrng_3),next(mcrng_4),next(mcrng_5)]"
   ]
  },
  {
   "cell_type": "markdown",
   "metadata": {},
   "source": [
    "# Testing generalized beta distribution\n",
    "\n",
    "It works!!!"
   ]
  },
  {
   "cell_type": "code",
   "execution_count": 16,
   "metadata": {
    "collapsed": false
   },
   "outputs": [],
   "source": [
    "from stats_arrays import MCRandomNumberGenerator, UncertaintyBase\n",
    "params_generalized_beta = UncertaintyBase.from_dicts(\n",
    "    {'loc': 1,'shape': 1, 'scale': np.NaN, 'minimum': -100, 'maximum': -1, 'uncertainty_type': 13,'negative': np.bool(0)})"
   ]
  },
  {
   "cell_type": "code",
   "execution_count": 17,
   "metadata": {
    "collapsed": false
   },
   "outputs": [
    {
     "data": {
      "text/plain": [
       "array([[-81.50722206],\n",
       "       [-23.10956003],\n",
       "       [-22.39647738],\n",
       "       [-16.26850077],\n",
       "       [-43.140627  ],\n",
       "       [-76.10805256],\n",
       "       [-74.38821499],\n",
       "       [-14.50645539],\n",
       "       [-81.72346479],\n",
       "       [-46.31020193],\n",
       "       [-50.0957235 ],\n",
       "       [-27.07207997],\n",
       "       [-36.20093561],\n",
       "       [-93.38574619],\n",
       "       [-13.26530827],\n",
       "       [-45.61072953],\n",
       "       [-18.0934764 ],\n",
       "       [ -3.14726204],\n",
       "       [-44.54960241],\n",
       "       [-44.54960241]])"
      ]
     },
     "execution_count": 17,
     "metadata": {},
     "output_type": "execute_result"
    }
   ],
   "source": [
    "from stats_arrays import MCRandomNumberGenerator, UncertaintyBase\n",
    "mcrng_generalized_beta = MCRandomNumberGenerator(params_generalized_beta)\n",
    "np.array([mcrng_generalized_beta.next() for _ in range(20)])"
   ]
  },
  {
   "cell_type": "code",
   "execution_count": 22,
   "metadata": {
    "collapsed": false
   },
   "outputs": [
    {
     "data": {
      "text/plain": [
       "{'lower': 'Not Implemented',\n",
       " 'mean': -50.5,\n",
       " 'median': 'Not Implemented',\n",
       " 'mode': 'Undefined',\n",
       " 'upper': 'Not Implemented'}"
      ]
     },
     "execution_count": 22,
     "metadata": {},
     "output_type": "execute_result"
    }
   ],
   "source": [
    "stats_arrays.GeneralizedBetaUncertainty.statistics(params_generalized_beta)"
   ]
  },
  {
   "cell_type": "code",
   "execution_count": 23,
   "metadata": {
    "collapsed": false
   },
   "outputs": [
    {
     "data": {
      "text/plain": [
       "{'max': -1.006173183840005,\n",
       " 'mean': -50.343008100574771,\n",
       " 'min': -99.998572689576818}"
      ]
     },
     "execution_count": 23,
     "metadata": {},
     "output_type": "execute_result"
    }
   ],
   "source": [
    "array=np.array([mcrng_generalized_beta.next() for _ in range(10000)])\n",
    "{'min':np.min(array),'max':np.max(array),'mean':np.mean(array)}"
   ]
  },
  {
   "cell_type": "code",
   "execution_count": 3,
   "metadata": {
    "collapsed": false
   },
   "outputs": [
    {
     "data": {
      "text/plain": [
       "array([[ 0.4],\n",
       "       [ 0.4],\n",
       "       [ 0.4],\n",
       "       [ 0.4],\n",
       "       [ 0.4],\n",
       "       [ 0.4],\n",
       "       [ 0.4],\n",
       "       [ 0.4],\n",
       "       [ 0.4],\n",
       "       [ 0.4],\n",
       "       [ 0.4],\n",
       "       [ 0.4],\n",
       "       [ 0.4],\n",
       "       [ 0.4],\n",
       "       [ 0.4],\n",
       "       [ 0.4],\n",
       "       [ 0.5],\n",
       "       [ 0.4],\n",
       "       [ 0.5],\n",
       "       [ 0.5]])"
      ]
     },
     "execution_count": 3,
     "metadata": {},
     "output_type": "execute_result"
    }
   ],
   "source": [
    "from stats_arrays import MCRandomNumberGenerator, UncertaintyBase\n",
    "params_generalized_beta = UncertaintyBase.from_dicts(\n",
    "    {'loc': 5.79674e-16,'shape': 3.19508e-15, 'scale': np.NaN, 'minimum': 0.4, 'maximum': 0.5, 'uncertainty_type': 13,'negative': np.bool(0)})\n",
    "from stats_arrays import MCRandomNumberGenerator, UncertaintyBase\n",
    "mcrng_generalized_beta = MCRandomNumberGenerator(params_generalized_beta)\n",
    "np.array([mcrng_generalized_beta.next() for _ in range(20)])"
   ]
  },
  {
   "cell_type": "code",
   "execution_count": null,
   "metadata": {
    "collapsed": true
   },
   "outputs": [],
   "source": []
  }
 ],
 "metadata": {
  "kernelspec": {
   "display_name": "Python 3",
   "language": "python",
   "name": "python3"
  },
  "language_info": {
   "codemirror_mode": {
    "name": "ipython",
    "version": 3
   },
   "file_extension": ".py",
   "mimetype": "text/x-python",
   "name": "python",
   "nbconvert_exporter": "python",
   "pygments_lexer": "ipython3",
   "version": "3.5.1"
  }
 },
 "nbformat": 4,
 "nbformat_minor": 0
}
