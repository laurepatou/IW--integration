{
 "cells": [
  {
   "cell_type": "code",
   "execution_count": 1,
   "metadata": {
    "collapsed": true
   },
   "outputs": [],
   "source": [
    "import brightway2 as bw\n",
    "import os               # to use \"operating system dependent functionality\"\n",
    "import numpy as np      # \"the fundamental package for scientific computing with Python\"\n",
    "import pandas as pd     # \"high-performance, easy-to-use data structures and data analysis tools\" for Python\n",
    "import csv\n",
    "import stats_arrays\n",
    "import scipy as sp\n",
    "import pandas as pd\n",
    "import pickle"
   ]
  },
  {
   "cell_type": "code",
   "execution_count": 2,
   "metadata": {
    "collapsed": true
   },
   "outputs": [],
   "source": [
    "bw.projects.set_current('4 param distrib')"
   ]
  },
  {
   "cell_type": "code",
   "execution_count": 3,
   "metadata": {
    "collapsed": false
   },
   "outputs": [
    {
     "name": "stdout",
     "output_type": "stream",
     "text": [
      "Creating default biosphere\n",
      "\n",
      "Applying strategy: normalize_units"
     ]
    },
    {
     "name": "stderr",
     "output_type": "stream",
     "text": [
      "Writing activities to SQLite3 database:\n",
      "0%                          100%\n",
      "[##############################] | ETA: 00:00:00\n",
      "Total time elapsed: 00:00:00\n"
     ]
    },
    {
     "name": "stdout",
     "output_type": "stream",
     "text": [
      "\n",
      "Applying strategy: drop_unspecified_subcategories\n",
      "Applied 2 strategies in 0.01 seconds\n",
      "Title: Writing activities to SQLite3 database:\n",
      "  Started: 08/17/2017 11:49:00\n",
      "  Finished: 08/17/2017 11:49:01\n",
      "  Total time elapsed: 00:00:00\n",
      "  CPU %: 70.200000\n",
      "  Memory %: 1.280258\n",
      "Created database: biosphere3\n",
      "Creating default LCIA methods\n",
      "\n",
      "Applying strategy: normalize_units\n",
      "Applying strategy: set_biosphere_type\n",
      "Applying strategy: drop_unspecified_subcategories\n",
      "Applying strategy: link_iterable_by_fields\n",
      "Applied 4 strategies in 1.26 seconds\n",
      "Wrote 718 LCIA methods with 178008 characterization factors\n",
      "Creating core data migrations\n",
      "\n"
     ]
    }
   ],
   "source": [
    "bw.bw2setup()"
   ]
  },
  {
   "cell_type": "markdown",
   "metadata": {},
   "source": [
    "# Creating new distribution: 4 parameter beta distribution"
   ]
  },
  {
   "cell_type": "code",
   "execution_count": 3,
   "metadata": {
    "collapsed": false
   },
   "outputs": [],
   "source": [
    "from numpy import *\n",
    "from stats_arrays import *\n",
    "\n",
    "\n",
    "class FourParamBetaUncertainty(UncertaintyBase):\n",
    "\n",
    "    \"\"\"\n",
    "4 PARAM BETA DISTRIBUTIONS\n",
    "The 4 parameters Beta distribution has the probability distribution function:\n",
    "\n",
    "The :math:`\\\\alpha` parameter is ``loc``, and :math:`\\\\beta` is ``shape``. \n",
    "By default, the Beta distribution is defined from 0 to 1; the upper bound can be rescaled with the ``maximum`` parameter\n",
    "and the lower bound with the ``minimum`` parameter.\n",
    "\n",
    "Wikipedia: `Beta distribution <http://en.wikipedia.org/wiki/Beta_distribution>`_\n",
    "    \"\"\"\n",
    "    id = 14\n",
    "    description = \"Four Parameters Beta uncertainty\"\n",
    "\n",
    "    @classmethod\n",
    "    def validate(cls, params):\n",
    "        scale_param=params['maximum']-params['minimum']\n",
    "        if (params['loc'] > 0).sum() != params.shape[0]:\n",
    "            raise InvalidParamsError(\"Real, positive alpha values are\" +\n",
    "                                     \" required for Beta uncertainties.\")\n",
    "        if (params['shape'] > 0).sum() != params.shape[0]:\n",
    "            raise InvalidParamsError(\"Real, positive beta values are\" +\n",
    "                                     \" required for Beta uncertainties.\")\n",
    "        if (scale_param <= 0).sum():\n",
    "            raise InvalidParamsError(\"Scale value must be positive or NaN\")\n",
    "\n",
    "    @classmethod\n",
    "    def random_variables(cls, params, size, seeded_random=None,\n",
    "                         transform=False):\n",
    "        scale_param=params['maximum']-params['minimum']\n",
    "        if not seeded_random:\n",
    "            seeded_random = random\n",
    "        scale = scale_param\n",
    "        scale[isnan(scale)] = 1\n",
    "        return scale.reshape((-1, 1)) * seeded_random.beta(params['loc'],params['shape'],size=(size,params.shape[0])).T + params['minimum']\n",
    "\n",
    "    @classmethod\n",
    "    def cdf(cls, params, vector):\n",
    "        vector = cls.check_2d_inputs(params, vector)\n",
    "        results = zeros(vector.shape)\n",
    "        scale_param=params['maximum']-params['minimum']\n",
    "        scale = scale_param\n",
    "        scale[isnan(scale)] = 1\n",
    "        for row in range(params.shape[0]):\n",
    "            results[row, :] = stats.beta.cdf(vector[row, :],\n",
    "                                             params['loc'][row], params['shape'][row],\n",
    "                                             loc=params['minimum'][row],\n",
    "                                             scale=scale[row])\n",
    "        return results\n",
    "\n",
    "    @classmethod\n",
    "    def ppf(cls, params, percentages):\n",
    "        percentages = cls.check_2d_inputs(params, percentages)\n",
    "        results = zeros(percentages.shape)\n",
    "        scale_param=params['maximum']-params['minimum']\n",
    "        scale = scale_param\n",
    "        scale[isnan(scale)] = 1\n",
    "        for row in range(percentages.shape[0]):\n",
    "            results[row, :] = stats.beta.ppf(percentages[row, :],\n",
    "                                             params['loc'][row], params['shape'][row],\n",
    "                                             loc=params['minimum'][row],\n",
    "                                             scale=scale[row])\n",
    "        return results\n",
    "\n",
    "    @classmethod\n",
    "    def statistics(cls, params):\n",
    "        alpha = float(params['loc'])\n",
    "        beta = float(params['shape'])\n",
    "        mini = float(params['minimum'])\n",
    "        maxi = float(params['maximum'])\n",
    "        # scale = 1 if isnan(params['maximum'])[0] else float(params['maximum'])\n",
    "        if alpha <= 1 or beta <= 1:\n",
    "            mode = \"Undefined\"\n",
    "        else:\n",
    "            mode = mini + (maxi-mini) * (alpha - 1) / (alpha + beta - 2)\n",
    "        return {\n",
    "            'mean': mini + (maxi-mini) * alpha / (alpha + beta),\n",
    "            'mode': mode,\n",
    "            'median': \"Not Implemented\",\n",
    "            'lower': mini,\n",
    "            'upper': maxi\n",
    "        }\n",
    "\n",
    "    @classmethod\n",
    "    def pdf(cls, params, xs=None):\n",
    "        scale_param=params['maximum']-params['minimum']\n",
    "        scale = 1 if isnan(scale_param)[0] else float(scale_param)\n",
    "        if xs is None:\n",
    "            xs = arange(0, scale, scale / cls.default_number_points_in_pdf)\n",
    "        ys = stats.beta.pdf(xs, params['loc'], params['shape'],\n",
    "                            loc=params['minimum'],\n",
    "                            scale=scale)\n",
    "        return xs, ys.reshape(ys.shape[1])"
   ]
  },
  {
   "cell_type": "code",
   "execution_count": 4,
   "metadata": {
    "collapsed": false
   },
   "outputs": [
    {
     "name": "stdout",
     "output_type": "stream",
     "text": [
      "True\n"
     ]
    }
   ],
   "source": [
    "uncertainty_choices.add(FourParamBetaUncertainty)\n",
    "print (FourParamBetaUncertainty in uncertainty_choices)"
   ]
  },
  {
   "cell_type": "markdown",
   "metadata": {},
   "source": [
    "# Importing impact method with uncertain CF using 4 param beta distribution"
   ]
  },
  {
   "cell_type": "code",
   "execution_count": 6,
   "metadata": {
    "collapsed": false
   },
   "outputs": [],
   "source": [
    "input_filepath='C:\\\\bw2-python\\\\Notebook - tutorial\\\\IW+ integration\\\\Pickle Python object saved\\\\methods_with_errors_ID14.55a38b3752c9c63824403cd0633fdcc8.bw2package'\n",
    "ic_to_test=bw.BW2Package.import_file(input_filepath)"
   ]
  },
  {
   "cell_type": "code",
   "execution_count": 8,
   "metadata": {
    "collapsed": false
   },
   "outputs": [
    {
     "data": {
      "text/plain": [
       "[('IMPACTWorld+ - Endpoint - update august 15th 2017',\n",
       "  'Ecosystem Quality',\n",
       "  'Land occupation, biodiversity, GLO, with uncert ID14'),\n",
       " ('IMPACTWorld+ - Endpoint - update august 15th 2017',\n",
       "  'Ecosystem Quality',\n",
       "  'Freshwater eutrophication, GLO, with uncert ID14'),\n",
       " ('IMPACTWorld+ - Endpoint - update august 15th 2017',\n",
       "  'Ecosystem Quality',\n",
       "  'Land transformation, biodiversity, GLO, with uncert ID14')]"
      ]
     },
     "execution_count": 8,
     "metadata": {},
     "output_type": "execute_result"
    }
   ],
   "source": [
    "ic_names_to_test=[ic_name for ic_name in bw.methods if 'with uncert ID14' in str(ic_name) \n",
    "                  and '- only with spatial variability - Four param beta integration' not in str(ic_name)]\n",
    "ic_names_to_test"
   ]
  },
  {
   "cell_type": "markdown",
   "metadata": {},
   "source": [
    "# Importing database containing one activity with all elementary flows in BW2"
   ]
  },
  {
   "cell_type": "code",
   "execution_count": 16,
   "metadata": {
    "collapsed": false
   },
   "outputs": [
    {
     "name": "stderr",
     "output_type": "stream",
     "text": [
      "Writing activities to SQLite3 database:\n",
      "0%  100%\n",
      "[#] | ETA: 00:00:00\n",
      "Total time elapsed: 00:00:01\n"
     ]
    },
    {
     "name": "stdout",
     "output_type": "stream",
     "text": [
      "Title: Writing activities to SQLite3 database:\n",
      "  Started: 08/18/2017 11:36:17\n",
      "  Finished: 08/18/2017 11:36:18\n",
      "  Total time elapsed: 00:00:01\n",
      "  CPU %: 30.300000\n",
      "  Memory %: 1.389069\n"
     ]
    }
   ],
   "source": [
    "input_filepath='C:\\\\bw2-python\\\\Notebook - tutorial\\\\IW+ integration\\\\Pickle Python object saved\\\\DB_For-test_v2.9536154a05725c74b8157d8b086f1aef.bw2package'\n",
    "DB_test_list=bw.BW2Package.import_file(input_filepath)"
   ]
  },
  {
   "cell_type": "markdown",
   "metadata": {},
   "source": [
    "# Monte Carlo calculation"
   ]
  },
  {
   "cell_type": "code",
   "execution_count": 19,
   "metadata": {
    "collapsed": true
   },
   "outputs": [],
   "source": [
    "#list_methods_name = IW_with_uncert\n",
    "#fu_tuple = (act,1)\n",
    "#iterations = 10\n",
    "\n",
    "def MC_multi_impact(fu_tuple,list_methods_name,iterations):\n",
    "    \n",
    "    MC_results_dict={}\n",
    "    fu_dict={fu_tuple[0]:fu_tuple[1]}\n",
    "    \n",
    "    for ic in list_methods_name:\n",
    "        print(ic)\n",
    "        MC_results_per_IC = bw.MonteCarloLCA(fu_dict,ic)\n",
    "        scores = [next(MC_results_per_IC) for _ in range(iterations)]\n",
    "        MC_results_dict[ic]=scores\n",
    "    \n",
    "    return MC_results_dict;"
   ]
  },
  {
   "cell_type": "code",
   "execution_count": 20,
   "metadata": {
    "collapsed": false
   },
   "outputs": [
    {
     "name": "stdout",
     "output_type": "stream",
     "text": [
      "('IMPACTWorld+ - Endpoint - update august 15th 2017', 'Ecosystem Quality', 'Land occupation, biodiversity, GLO, with uncert ID14')\n"
     ]
    },
    {
     "ename": "MaximumIterationsError",
     "evalue": "",
     "output_type": "error",
     "traceback": [
      "\u001b[1;31m---------------------------------------------------------------------------\u001b[0m",
      "\u001b[1;31mMaximumIterationsError\u001b[0m                    Traceback (most recent call last)",
      "\u001b[1;32m<ipython-input-20-42ed115d2e23>\u001b[0m in \u001b[0;36m<module>\u001b[1;34m()\u001b[0m\n\u001b[0;32m      6\u001b[0m \u001b[0miterations\u001b[0m \u001b[1;33m=\u001b[0m \u001b[1;36m10\u001b[0m\u001b[1;33m\u001b[0m\u001b[0m\n\u001b[0;32m      7\u001b[0m \u001b[1;33m\u001b[0m\u001b[0m\n\u001b[1;32m----> 8\u001b[1;33m \u001b[0mscores\u001b[0m\u001b[1;33m=\u001b[0m\u001b[0mMC_multi_impact\u001b[0m\u001b[1;33m(\u001b[0m\u001b[0mfu_tuple\u001b[0m\u001b[1;33m,\u001b[0m\u001b[0mlist_methods_name\u001b[0m\u001b[1;33m,\u001b[0m\u001b[0miterations\u001b[0m\u001b[1;33m)\u001b[0m\u001b[1;33m\u001b[0m\u001b[0m\n\u001b[0m\u001b[0;32m      9\u001b[0m \u001b[0mscores\u001b[0m\u001b[1;33m\u001b[0m\u001b[0m\n",
      "\u001b[1;32m<ipython-input-19-eeb51539d7b1>\u001b[0m in \u001b[0;36mMC_multi_impact\u001b[1;34m(fu_tuple, list_methods_name, iterations)\u001b[0m\n\u001b[0;32m     11\u001b[0m         \u001b[0mprint\u001b[0m\u001b[1;33m(\u001b[0m\u001b[0mic\u001b[0m\u001b[1;33m)\u001b[0m\u001b[1;33m\u001b[0m\u001b[0m\n\u001b[0;32m     12\u001b[0m         \u001b[0mMC_results_per_IC\u001b[0m \u001b[1;33m=\u001b[0m \u001b[0mbw\u001b[0m\u001b[1;33m.\u001b[0m\u001b[0mMonteCarloLCA\u001b[0m\u001b[1;33m(\u001b[0m\u001b[0mfu_dict\u001b[0m\u001b[1;33m,\u001b[0m\u001b[0mic\u001b[0m\u001b[1;33m)\u001b[0m\u001b[1;33m\u001b[0m\u001b[0m\n\u001b[1;32m---> 13\u001b[1;33m         \u001b[0mscores\u001b[0m \u001b[1;33m=\u001b[0m \u001b[1;33m[\u001b[0m\u001b[0mnext\u001b[0m\u001b[1;33m(\u001b[0m\u001b[0mMC_results_per_IC\u001b[0m\u001b[1;33m)\u001b[0m \u001b[1;32mfor\u001b[0m \u001b[0m_\u001b[0m \u001b[1;32min\u001b[0m \u001b[0mrange\u001b[0m\u001b[1;33m(\u001b[0m\u001b[0miterations\u001b[0m\u001b[1;33m)\u001b[0m\u001b[1;33m]\u001b[0m\u001b[1;33m\u001b[0m\u001b[0m\n\u001b[0m\u001b[0;32m     14\u001b[0m         \u001b[0mMC_results_dict\u001b[0m\u001b[1;33m[\u001b[0m\u001b[0mic\u001b[0m\u001b[1;33m]\u001b[0m\u001b[1;33m=\u001b[0m\u001b[0mscores\u001b[0m\u001b[1;33m\u001b[0m\u001b[0m\n\u001b[0;32m     15\u001b[0m \u001b[1;33m\u001b[0m\u001b[0m\n",
      "\u001b[1;32m<ipython-input-19-eeb51539d7b1>\u001b[0m in \u001b[0;36m<listcomp>\u001b[1;34m(.0)\u001b[0m\n\u001b[0;32m     11\u001b[0m         \u001b[0mprint\u001b[0m\u001b[1;33m(\u001b[0m\u001b[0mic\u001b[0m\u001b[1;33m)\u001b[0m\u001b[1;33m\u001b[0m\u001b[0m\n\u001b[0;32m     12\u001b[0m         \u001b[0mMC_results_per_IC\u001b[0m \u001b[1;33m=\u001b[0m \u001b[0mbw\u001b[0m\u001b[1;33m.\u001b[0m\u001b[0mMonteCarloLCA\u001b[0m\u001b[1;33m(\u001b[0m\u001b[0mfu_dict\u001b[0m\u001b[1;33m,\u001b[0m\u001b[0mic\u001b[0m\u001b[1;33m)\u001b[0m\u001b[1;33m\u001b[0m\u001b[0m\n\u001b[1;32m---> 13\u001b[1;33m         \u001b[0mscores\u001b[0m \u001b[1;33m=\u001b[0m \u001b[1;33m[\u001b[0m\u001b[0mnext\u001b[0m\u001b[1;33m(\u001b[0m\u001b[0mMC_results_per_IC\u001b[0m\u001b[1;33m)\u001b[0m \u001b[1;32mfor\u001b[0m \u001b[0m_\u001b[0m \u001b[1;32min\u001b[0m \u001b[0mrange\u001b[0m\u001b[1;33m(\u001b[0m\u001b[0miterations\u001b[0m\u001b[1;33m)\u001b[0m\u001b[1;33m]\u001b[0m\u001b[1;33m\u001b[0m\u001b[0m\n\u001b[0m\u001b[0;32m     14\u001b[0m         \u001b[0mMC_results_dict\u001b[0m\u001b[1;33m[\u001b[0m\u001b[0mic\u001b[0m\u001b[1;33m]\u001b[0m\u001b[1;33m=\u001b[0m\u001b[0mscores\u001b[0m\u001b[1;33m\u001b[0m\u001b[0m\n\u001b[0;32m     15\u001b[0m \u001b[1;33m\u001b[0m\u001b[0m\n",
      "\u001b[1;32mC:\\bw2-python\\envs\\bw2\\lib\\site-packages\\bw2calc\\monte_carlo.py\u001b[0m in \u001b[0;36m__next__\u001b[1;34m(self)\u001b[0m\n\u001b[0;32m     95\u001b[0m         \u001b[0mself\u001b[0m\u001b[1;33m.\u001b[0m\u001b[0mrebuild_biosphere_matrix\u001b[0m\u001b[1;33m(\u001b[0m\u001b[0mself\u001b[0m\u001b[1;33m.\u001b[0m\u001b[0mbio_rng\u001b[0m\u001b[1;33m.\u001b[0m\u001b[0mnext\u001b[0m\u001b[1;33m(\u001b[0m\u001b[1;33m)\u001b[0m\u001b[1;33m)\u001b[0m\u001b[1;33m\u001b[0m\u001b[0m\n\u001b[0;32m     96\u001b[0m         \u001b[1;32mif\u001b[0m \u001b[0mself\u001b[0m\u001b[1;33m.\u001b[0m\u001b[0mlcia\u001b[0m\u001b[1;33m:\u001b[0m\u001b[1;33m\u001b[0m\u001b[0m\n\u001b[1;32m---> 97\u001b[1;33m             \u001b[0mself\u001b[0m\u001b[1;33m.\u001b[0m\u001b[0mrebuild_characterization_matrix\u001b[0m\u001b[1;33m(\u001b[0m\u001b[0mself\u001b[0m\u001b[1;33m.\u001b[0m\u001b[0mcf_rng\u001b[0m\u001b[1;33m.\u001b[0m\u001b[0mnext\u001b[0m\u001b[1;33m(\u001b[0m\u001b[1;33m)\u001b[0m\u001b[1;33m)\u001b[0m\u001b[1;33m\u001b[0m\u001b[0m\n\u001b[0m\u001b[0;32m     98\u001b[0m         \u001b[1;32mif\u001b[0m \u001b[0mself\u001b[0m\u001b[1;33m.\u001b[0m\u001b[0mweighting\u001b[0m\u001b[1;33m:\u001b[0m\u001b[1;33m\u001b[0m\u001b[0m\n\u001b[0;32m     99\u001b[0m             \u001b[0mself\u001b[0m\u001b[1;33m.\u001b[0m\u001b[0mweighting_value\u001b[0m \u001b[1;33m=\u001b[0m \u001b[0mself\u001b[0m\u001b[1;33m.\u001b[0m\u001b[0mweighting_rng\u001b[0m\u001b[1;33m.\u001b[0m\u001b[0mnext\u001b[0m\u001b[1;33m(\u001b[0m\u001b[1;33m)\u001b[0m\u001b[1;33m\u001b[0m\u001b[0m\n",
      "\u001b[1;32mC:\\bw2-python\\envs\\bw2\\lib\\site-packages\\stats_arrays\\random.py\u001b[0m in \u001b[0;36mnext\u001b[1;34m(self)\u001b[0m\n\u001b[0;32m    181\u001b[0m                 \u001b[1;36m1\u001b[0m\u001b[1;33m,\u001b[0m\u001b[1;33m\u001b[0m\u001b[0m\n\u001b[0;32m    182\u001b[0m                 \u001b[0mself\u001b[0m\u001b[1;33m.\u001b[0m\u001b[0mrandom\u001b[0m\u001b[1;33m,\u001b[0m\u001b[1;33m\u001b[0m\u001b[0m\n\u001b[1;32m--> 183\u001b[1;33m                 \u001b[0mself\u001b[0m\u001b[1;33m.\u001b[0m\u001b[0mmaximum_iterations\u001b[0m\u001b[1;33m\u001b[0m\u001b[0m\n\u001b[0m\u001b[0;32m    184\u001b[0m             )\n\u001b[0;32m    185\u001b[0m             \u001b[1;32mif\u001b[0m \u001b[0mlen\u001b[0m\u001b[1;33m(\u001b[0m\u001b[0mrandom_data\u001b[0m\u001b[1;33m.\u001b[0m\u001b[0mshape\u001b[0m\u001b[1;33m)\u001b[0m \u001b[1;33m==\u001b[0m \u001b[1;36m2\u001b[0m\u001b[1;33m:\u001b[0m\u001b[1;33m\u001b[0m\u001b[0m\n",
      "\u001b[1;32mC:\\bw2-python\\envs\\bw2\\lib\\site-packages\\stats_arrays\\distributions\\base.py\u001b[0m in \u001b[0;36mbounded_random_variables\u001b[1;34m(cls, params, size, seeded_random, maximum_iterations)\u001b[0m\n\u001b[0;32m    210\u001b[0m             \u001b[0mcounter\u001b[0m \u001b[1;33m+=\u001b[0m \u001b[1;36m1\u001b[0m\u001b[1;33m\u001b[0m\u001b[0m\n\u001b[0;32m    211\u001b[0m             \u001b[1;32mif\u001b[0m \u001b[0mcounter\u001b[0m \u001b[1;33m>=\u001b[0m \u001b[0mmaximum_iterations\u001b[0m\u001b[1;33m:\u001b[0m\u001b[1;33m\u001b[0m\u001b[0m\n\u001b[1;32m--> 212\u001b[1;33m                 \u001b[1;32mraise\u001b[0m \u001b[0mMaximumIterationsError\u001b[0m\u001b[1;33m\u001b[0m\u001b[0m\n\u001b[0m\u001b[0;32m    213\u001b[0m         \u001b[1;32mreturn\u001b[0m \u001b[0mdata\u001b[0m\u001b[1;33m\u001b[0m\u001b[0m\n\u001b[0;32m    214\u001b[0m \u001b[1;33m\u001b[0m\u001b[0m\n",
      "\u001b[1;31mMaximumIterationsError\u001b[0m: "
     ]
    }
   ],
   "source": [
    "DB_test=bw.Database(\"For test_v2\")\n",
    "act=DB_test.get(\"All elementary flows\")\n",
    "\n",
    "list_methods_name = ic_names_to_test\n",
    "fu_tuple = (act,1)\n",
    "iterations = 10\n",
    "\n",
    "scores=MC_multi_impact(fu_tuple,list_methods_name,iterations)\n",
    "scores"
   ]
  },
  {
   "cell_type": "code",
   "execution_count": null,
   "metadata": {
    "collapsed": true
   },
   "outputs": [],
   "source": []
  }
 ],
 "metadata": {
  "kernelspec": {
   "display_name": "Python 3",
   "language": "python",
   "name": "python3"
  },
  "language_info": {
   "codemirror_mode": {
    "name": "ipython",
    "version": 3
   },
   "file_extension": ".py",
   "mimetype": "text/x-python",
   "name": "python",
   "nbconvert_exporter": "python",
   "pygments_lexer": "ipython3",
   "version": "3.5.1"
  }
 },
 "nbformat": 4,
 "nbformat_minor": 0
}
